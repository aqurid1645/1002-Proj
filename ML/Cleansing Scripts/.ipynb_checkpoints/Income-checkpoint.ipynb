{
 "cells": [
  {
   "cell_type": "code",
   "execution_count": 1,
   "id": "0914e585",
   "metadata": {
    "scrolled": true
   },
   "outputs": [
    {
     "ename": "NameError",
     "evalue": "name 'pd' is not defined",
     "output_type": "error",
     "traceback": [
      "\u001b[0;31m---------------------------------------------------------------------------\u001b[0m",
      "\u001b[0;31mNameError\u001b[0m                                 Traceback (most recent call last)",
      "Input \u001b[0;32mIn [1]\u001b[0m, in \u001b[0;36m<cell line: 1>\u001b[0;34m()\u001b[0m\n\u001b[0;32m----> 1\u001b[0m income \u001b[38;5;241m=\u001b[39m \u001b[43mpd\u001b[49m\u001b[38;5;241m.\u001b[39mread_csv(\u001b[38;5;124m\"\u001b[39m\u001b[38;5;124m../Raw/Data/Annual Change In Income By Industry.csv\u001b[39m\u001b[38;5;124m\"\u001b[39m)\u001b[38;5;241m.\u001b[39mreplace(\u001b[38;5;124m\"\u001b[39m\u001b[38;5;124m-\u001b[39m\u001b[38;5;124m\"\u001b[39m, \u001b[38;5;241m0\u001b[39m)\u001b[38;5;241m.\u001b[39mrename(columns\u001b[38;5;241m=\u001b[39m{\u001b[38;5;124m'\u001b[39m\u001b[38;5;124mYear\u001b[39m\u001b[38;5;124m'\u001b[39m:\u001b[38;5;124m\"\u001b[39m\u001b[38;5;124myear\u001b[39m\u001b[38;5;124m\"\u001b[39m,\n\u001b[1;32m      2\u001b[0m                                                                                                \u001b[38;5;124m'\u001b[39m\u001b[38;5;124mPercentage\u001b[39m\u001b[38;5;124m'\u001b[39m:\u001b[38;5;124m\"\u001b[39m\u001b[38;5;124mpercent\u001b[39m\u001b[38;5;124m\"\u001b[39m})\n\u001b[1;32m      4\u001b[0m industry1 \u001b[38;5;241m=\u001b[39m []\n\u001b[1;32m      5\u001b[0m \u001b[38;5;28;01mfor\u001b[39;00m i \u001b[38;5;129;01min\u001b[39;00m \u001b[38;5;28mrange\u001b[39m(\u001b[38;5;28mlen\u001b[39m(income)):\n",
      "\u001b[0;31mNameError\u001b[0m: name 'pd' is not defined"
     ]
    }
   ],
   "source": [
    "income = pd.read_csv(\"../Raw/Data/Annual Change In Income By Industry.csv\").replace(\"-\", 0).rename(columns={'Year':\"year\",\n",
    "                                                                                               'Percentage':\"percent\"})\n",
    "\n",
    "industry1 = []\n",
    "for i in range(len(income)):\n",
    "    if income.Industry[i] == \"Manufacturing\":\n",
    "        industry1.append(\"manufacturing\")\n",
    "        \n",
    "    elif income.Industry[i] == \"Construction\":\n",
    "        industry1.append(\"construction\")\n",
    "        \n",
    "    elif income.Industry[i] == \"Wholesale Trade\":\n",
    "        industry1.append(\"services\")\n",
    "        \n",
    "    elif income.Industry[i] == \"Retail Trade\":\n",
    "        industry1.append(\"services\")\n",
    "        \n",
    "    elif income.Industry[i] == \"Transport And Storage\":\n",
    "        industry1.append(\"services\")\n",
    "    \n",
    "    elif income.Industry[i] == \"Accommodation\":\n",
    "        industry1.append(\"services\")\n",
    "    \n",
    "    elif income.Industry[i] == \"Food  Beverage Services\":\n",
    "        industry1.append(\"services\")\n",
    "    \n",
    "    elif income.Industry[i] == \"Information And Communications\":\n",
    "        industry1.append(\"services\")\n",
    "        \n",
    "    elif income.Industry[i] == \"Financial And Insurance Services\":\n",
    "        industry1.append(\"services\")\n",
    "        \n",
    "    elif income.Industry[i] == \"Real Estate Services\":\n",
    "        industry1.append(\"services\")\n",
    "    \n",
    "    elif income.Industry[i] == \"Professional Services\":\n",
    "        industry1.append(\"services\")\n",
    "        \n",
    "    elif income.Industry[i] == \"Administrative And Support Services\":\n",
    "        industry1.append(\"services\")\n",
    "    \n",
    "    elif income.Industry[i] == \"Community Social And Personal Services\":\n",
    "        industry1.append(\"services\")\n",
    "    \n",
    "    \n",
    "    \n",
    "industry = pd.DataFrame(industry1, columns=[\"industry1\"])\n",
    "income = pd.concat([income,industry], axis =1)\n",
    "income"
   ]
  },
  {
   "cell_type": "code",
   "execution_count": 304,
   "id": "fe677b0c",
   "metadata": {},
   "outputs": [],
   "source": [
    "# income = income.drop(columns=\"Industry\")\n",
    "income = income.groupby([\"year\", \"industry1\"]).mean().round(2)\n",
    "income\n",
    "\n",
    "income.to_csv(\"../Cleansed/income.csv\")"
   ]
  },
  {
   "cell_type": "code",
   "execution_count": 128,
   "id": "1dbf9ec4",
   "metadata": {},
   "outputs": [
    {
     "data": {
      "text/plain": [
       "array(['manufacturing', 'construction', 'services'], dtype=object)"
      ]
     },
     "execution_count": 128,
     "metadata": {},
     "output_type": "execute_result"
    }
   ],
   "source": [
    "income.industry1.unique()"
   ]
  }
 ],
 "metadata": {
  "kernelspec": {
   "display_name": "Python 3 (ipykernel)",
   "language": "python",
   "name": "python3"
  },
  "language_info": {
   "codemirror_mode": {
    "name": "ipython",
    "version": 3
   },
   "file_extension": ".py",
   "mimetype": "text/x-python",
   "name": "python",
   "nbconvert_exporter": "python",
   "pygments_lexer": "ipython3",
   "version": "3.10.6"
  }
 },
 "nbformat": 4,
 "nbformat_minor": 5
}
